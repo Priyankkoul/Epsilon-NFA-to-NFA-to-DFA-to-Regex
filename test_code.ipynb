{
 "cells": [
  {
   "cell_type": "code",
   "execution_count": 1,
   "metadata": {},
   "outputs": [
    {
     "ename": "FileNotFoundError",
     "evalue": "[Errno 2] No such file or directory: '-f'",
     "output_type": "error",
     "traceback": [
      "\u001b[0;31m---------------------------------------------------------------------------\u001b[0m",
      "\u001b[0;31mFileNotFoundError\u001b[0m                         Traceback (most recent call last)",
      "\u001b[0;32m<ipython-input-1-762c01c9c3d2>\u001b[0m in \u001b[0;36m<module>\u001b[0;34m\u001b[0m\n\u001b[1;32m     26\u001b[0m \u001b[0;34m\u001b[0m\u001b[0m\n\u001b[1;32m     27\u001b[0m \u001b[0;32mif\u001b[0m \u001b[0m__name__\u001b[0m \u001b[0;34m==\u001b[0m \u001b[0;34m\"__main__\"\u001b[0m\u001b[0;34m:\u001b[0m\u001b[0;34m\u001b[0m\u001b[0;34m\u001b[0m\u001b[0m\n\u001b[0;32m---> 28\u001b[0;31m     \u001b[0mload_nfa\u001b[0m\u001b[0;34m(\u001b[0m\u001b[0;34m)\u001b[0m\u001b[0;34m\u001b[0m\u001b[0;34m\u001b[0m\u001b[0m\n\u001b[0m\u001b[1;32m     29\u001b[0m \u001b[0;34m\u001b[0m\u001b[0m\n\u001b[1;32m     30\u001b[0m     \u001b[0mdfa\u001b[0m\u001b[0;34m[\u001b[0m\u001b[0;34m'states'\u001b[0m\u001b[0;34m]\u001b[0m \u001b[0;34m=\u001b[0m \u001b[0;34m[\u001b[0m\u001b[0;34m]\u001b[0m\u001b[0;34m\u001b[0m\u001b[0;34m\u001b[0m\u001b[0m\n",
      "\u001b[0;32m<ipython-input-1-762c01c9c3d2>\u001b[0m in \u001b[0;36mload_nfa\u001b[0;34m()\u001b[0m\n\u001b[1;32m     17\u001b[0m \u001b[0;32mdef\u001b[0m \u001b[0mload_nfa\u001b[0m\u001b[0;34m(\u001b[0m\u001b[0;34m)\u001b[0m\u001b[0;34m:\u001b[0m\u001b[0;34m\u001b[0m\u001b[0;34m\u001b[0m\u001b[0m\n\u001b[1;32m     18\u001b[0m     \u001b[0;32mglobal\u001b[0m \u001b[0mnfa\u001b[0m\u001b[0;34m\u001b[0m\u001b[0;34m\u001b[0m\u001b[0m\n\u001b[0;32m---> 19\u001b[0;31m     \u001b[0;32mwith\u001b[0m \u001b[0mopen\u001b[0m\u001b[0;34m(\u001b[0m\u001b[0msys\u001b[0m\u001b[0;34m.\u001b[0m\u001b[0margv\u001b[0m\u001b[0;34m[\u001b[0m\u001b[0;36m1\u001b[0m\u001b[0;34m]\u001b[0m\u001b[0;34m,\u001b[0m \u001b[0;34m'r'\u001b[0m\u001b[0;34m)\u001b[0m \u001b[0;32mas\u001b[0m \u001b[0minpjson\u001b[0m\u001b[0;34m:\u001b[0m\u001b[0;34m\u001b[0m\u001b[0;34m\u001b[0m\u001b[0m\n\u001b[0m\u001b[1;32m     20\u001b[0m         \u001b[0mnfa\u001b[0m \u001b[0;34m=\u001b[0m \u001b[0mjson\u001b[0m\u001b[0;34m.\u001b[0m\u001b[0mloads\u001b[0m\u001b[0;34m(\u001b[0m\u001b[0minpjson\u001b[0m\u001b[0;34m.\u001b[0m\u001b[0mread\u001b[0m\u001b[0;34m(\u001b[0m\u001b[0;34m)\u001b[0m\u001b[0;34m)\u001b[0m\u001b[0;34m\u001b[0m\u001b[0;34m\u001b[0m\u001b[0m\n\u001b[1;32m     21\u001b[0m \u001b[0;34m\u001b[0m\u001b[0m\n",
      "\u001b[0;31mFileNotFoundError\u001b[0m: [Errno 2] No such file or directory: '-f'"
     ]
    }
   ],
   "source": [
    "# Conversion from NFA to DFA\n",
    "import json\n",
    "import sys\n",
    "\n",
    "dfa = {}\n",
    "nfa = {}\n",
    "nfa_states = []\n",
    "dfa_states = []\n",
    "\n",
    "def get_power_set(nfa_st):\n",
    "    powerset = [[]]\n",
    "    for i in nfa_st:\n",
    "        for sub in powerset:\n",
    "            powerset = powerset + [list(sub) + [i]]\n",
    "    return powerset\n",
    "\n",
    "def load_nfa():\n",
    "    global nfa\n",
    "    with open(sys.argv[1], 'r') as inpjson:\n",
    "        nfa = json.loads(inpjson.read())\n",
    "\n",
    "def out_dfa():\n",
    "    global dfa\n",
    "    with open(sys.argv[2], 'w') as outjson:\n",
    "        outjson.write(json.dumps(dfa, indent = 4))\n",
    "\n",
    "if __name__ == \"__main__\":\n",
    "    load_nfa()\n",
    "    \n",
    "    dfa['states'] = []\n",
    "    dfa['letters'] = nfa['letters']\n",
    "    dfa['transition_function'] = []\n",
    "    \n",
    "    for state in nfa['states']:\n",
    "        nfa_states.append(state)\n",
    "\n",
    "    dfa_states = get_power_set(nfa_states)\n",
    "\n",
    "\n",
    "    dfa['states'] = []\n",
    "    for states in dfa_states:\n",
    "        temp = []\n",
    "        for state in states:\n",
    "            temp.append(state)\n",
    "        dfa['states'].append(temp)\n",
    "\n",
    "    for states in dfa_states:\n",
    "        for letter in nfa['letters']:\n",
    "            q_to = []\n",
    "            for state in states:\n",
    "                for val in nfa['transition_function']:\n",
    "                    start = val[0]\n",
    "                    inp = val[1]\n",
    "                    end = val[2]\n",
    "                    if state == start and letter == inp:\n",
    "                        if end not in q_to:\n",
    "                            q_to.append(end)\n",
    "            q_states = []\n",
    "            for i in states:\n",
    "                q_states.append(i)\n",
    "            dfa['transition_function'].append([q_states, letter, q_to])\n",
    "\n",
    "    dfa['start_states'] = []\n",
    "    for state in nfa['start_states']:\n",
    "        dfa['start_states'].append([state])\n",
    "    dfa['final_states'] = []\n",
    "    for states in dfa['states']:\n",
    "        for state in states:\n",
    "            if state in nfa['final_states'] and states not in dfa['final_states']:\n",
    "                dfa['final_states'].append(states)\n",
    "    \n",
    "    out_dfa()\n"
   ]
  },
  {
   "cell_type": "code",
   "execution_count": null,
   "metadata": {},
   "outputs": [],
   "source": []
  }
 ],
 "metadata": {
  "kernelspec": {
   "display_name": "Python 3",
   "language": "python",
   "name": "python3"
  },
  "language_info": {
   "codemirror_mode": {
    "name": "ipython",
    "version": 3
   },
   "file_extension": ".py",
   "mimetype": "text/x-python",
   "name": "python",
   "nbconvert_exporter": "python",
   "pygments_lexer": "ipython3",
   "version": "3.8.5"
  }
 },
 "nbformat": 4,
 "nbformat_minor": 4
}
